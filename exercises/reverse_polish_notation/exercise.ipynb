{
 "cells": [
  {
   "cell_type": "markdown",
   "metadata": {},
   "source": [
    "# Reverse Polish Notation\n"
   ]
  },
  {
   "cell_type": "markdown",
   "metadata": {
    "pycharm": {
     "name": "#%% md\n"
    }
   },
   "source": [
    "**Problem**:  Evaluate the value of an arithmetic expression in Reverse \n",
    "Polish Notation. Valid operators are `+`, `-`, `*`, `/`. Each operand may\n",
    "be an integer or another expression.\n",
    "\n",
    "Some examples:\n",
    "* `[2, 1, +, 3, *] -> ((2 + 1) * 3) -> 9`\n",
    "* `[4, 13, 5, /, +] -> (4 + (13 / 5)) -> 6.6`"
   ]
  },
  {
   "cell_type": "code",
   "execution_count": 1,
   "metadata": {
    "pycharm": {
     "is_executing": false,
     "name": "#%%\n"
    }
   },
   "outputs": [],
   "source": [
    "import numpy as np\n",
    "import copy"
   ]
  },
  {
   "cell_type": "code",
   "execution_count": 38,
   "metadata": {
    "pycharm": {
     "is_executing": false,
     "name": "#%%\n"
    }
   },
   "outputs": [],
   "source": [
    "def do_operation(input1: np.number, input2: np.number, operator: str):\n",
    "    \"\"\"\n",
    "    Applies binary operation to input1 and input2\n",
    "    \"\"\"\n",
    "    \n",
    "    if operator == \"*\":\n",
    "        result = input1 * input2\n",
    "        \n",
    "    elif operator == \"/\":\n",
    "        result = input1 / input2\n",
    "        \n",
    "    elif operator == \"-\":\n",
    "        result = input1 - input2\n",
    "        \n",
    "    elif operator == \"+\":\n",
    "        result = input1 + input2        \n",
    "        \n",
    "    else:\n",
    "        raise ValueError(f\"Expected operator to be either '*', '/', '-' or '+'. Got {operator}.\")\n",
    "    \n",
    "    return result"
   ]
  },
  {
   "cell_type": "code",
   "execution_count": 41,
   "metadata": {},
   "outputs": [],
   "source": [
    "def rpn(example: list):\n",
    "    \"\"\"\n",
    "    Calculates the result using reverse Polish notation\n",
    "    \"\"\"\n",
    "    \n",
    "    numbers = []\n",
    "    for index, item in enumerate(example):\n",
    "        if isinstance(item, int) or isinstance(item, float):\n",
    "            numbers.append(item)\n",
    "            \n",
    "        else:\n",
    "            result = do_operation(numbers[-2], numbers[-1], item)\n",
    "            del numbers[-2:]\n",
    "            numbers.append(result)\n",
    "            \n",
    "    return result"
   ]
  },
  {
   "cell_type": "code",
   "execution_count": 42,
   "metadata": {},
   "outputs": [
    {
     "data": {
      "text/plain": [
       "9"
      ]
     },
     "execution_count": 42,
     "metadata": {},
     "output_type": "execute_result"
    }
   ],
   "source": [
    "example = [2, 1, \"+\", 3, \"*\"]\n",
    "rpn(example)"
   ]
  },
  {
   "cell_type": "code",
   "execution_count": null,
   "outputs": [],
   "source": [
    "example = [4, 13, 5, \"/\", \"+\"]\n",
    "rpn(example)"
   ],
   "metadata": {
    "collapsed": false,
    "pycharm": {
     "name": "#%%\n"
    }
   }
  },
  {
   "cell_type": "code",
   "execution_count": null,
   "outputs": [],
   "source": [],
   "metadata": {
    "collapsed": false,
    "pycharm": {
     "name": "#%%\n"
    }
   }
  },
  {
   "cell_type": "code",
   "execution_count": null,
   "outputs": [],
   "source": [],
   "metadata": {
    "collapsed": false,
    "pycharm": {
     "name": "#%%\n"
    }
   }
  },
  {
   "cell_type": "code",
   "execution_count": null,
   "outputs": [],
   "source": [],
   "metadata": {
    "collapsed": false,
    "pycharm": {
     "name": "#%%\n"
    }
   }
  },
  {
   "cell_type": "code",
   "execution_count": 43,
   "metadata": {
    "pycharm": {
     "is_executing": true,
     "name": "#%%\n"
    }
   },
   "outputs": [
    {
     "data": {
      "text/plain": [
       "6.6"
      ]
     },
     "execution_count": 43,
     "metadata": {},
     "output_type": "execute_result"
    }
   ],
   "source": []
  },
  {
   "cell_type": "code",
   "execution_count": null,
   "metadata": {},
   "outputs": [],
   "source": []
  }
 ],
 "metadata": {
  "kernelspec": {
   "display_name": "Python 3",
   "language": "python",
   "name": "python3"
  },
  "language_info": {
   "codemirror_mode": {
    "name": "ipython",
    "version": 3
   },
   "file_extension": ".py",
   "mimetype": "text/x-python",
   "name": "python",
   "nbconvert_exporter": "python",
   "pygments_lexer": "ipython3",
   "version": "3.7.3"
  },
  "pycharm": {
   "stem_cell": {
    "cell_type": "raw",
    "source": [],
    "metadata": {
     "collapsed": false
    }
   }
  }
 },
 "nbformat": 4,
 "nbformat_minor": 1
}