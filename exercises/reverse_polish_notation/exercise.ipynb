{
 "cells": [
  {
   "cell_type": "markdown",
   "metadata": {},
   "source": [
    "# Reverse Polish Notation\n"
   ]
  },
  {
   "cell_type": "markdown",
   "metadata": {
    "pycharm": {
     "name": "#%% md\n"
    }
   },
   "source": [
    "**Problem**:  Evaluate the value of an arithmetic expression in Reverse \n",
    "Polish Notation. Valid operators are `+`, `-`, `*`, `/`. Each operand may\n",
    "be an integer or another expression.\n",
    "\n",
    "Some examples:\n",
    "* `[2, 1, +, 3, *] -> ((2 + 1) * 3) -> 9`\n",
    "* `[4, 13, 5, /, +] -> (4 + (13 / 5)) -> 6`"
   ]
  },
  {
   "cell_type": "code",
   "execution_count": 1,
   "metadata": {
    "pycharm": {
     "is_executing": false,
     "name": "#%%\n"
    }
   },
   "outputs": [],
   "source": [
    "import numpy as np\n",
    "import copy"
   ]
  },
  {
   "cell_type": "code",
   "execution_count": 35,
   "metadata": {
    "pycharm": {
     "is_executing": false,
     "name": "#%%\n"
    }
   },
   "outputs": [],
   "source": [
    "def do_operation(input1: np.number, input2: np.number, operator: str):\n",
    "    \"\"\"\n",
    "    Applies binary operation to input1 and input2\n",
    "    \"\"\"\n",
    "    \n",
    "    if operator == \"*\":\n",
    "        result = input1 * input2\n",
    "        \n",
    "    elif operator == \"/\":\n",
    "        result = input1 / input2\n",
    "        \n",
    "    elif operator == \"-\":\n",
    "        result = input1 - input2\n",
    "        \n",
    "    elif operator == \"+\":\n",
    "        result = input1 + input2        \n",
    "        \n",
    "    else:\n",
    "        raise ValueError(f\"Expected operator to be '*', '/', '-' or)\n",
    "    \n",
    "    return result"
   ]
  },
  {
   "cell_type": "code",
   "execution_count": 36,
   "metadata": {},
   "outputs": [],
   "source": [
    "def rpn(example: list):\n",
    "    \"\"\"\n",
    "    \n",
    "    \"\"\"\n",
    "    \n",
    "    numbers = []\n",
    "    for index, item in enumerate(example):\n",
    "        print(numbers)\n",
    "        if isinstance(item, int) or isinstance(item, float):\n",
    "            print(\"Is number\")\n",
    "            numbers.append(item)\n",
    "            \n",
    "        else:\n",
    "            print(\"Doing operation\")\n",
    "            result = do_operation(numbers[-2], numbers[-1], item)\n",
    "            del numbers[-2:]\n",
    "            numbers.append(result)\n",
    "            \n",
    "    return result"
   ]
  },
  {
   "cell_type": "code",
   "execution_count": 37,
   "metadata": {
    "pycharm": {
     "is_executing": true,
     "name": "#%%\n"
    }
   },
   "outputs": [
    {
     "name": "stdout",
     "output_type": "stream",
     "text": [
      "[]\n",
      "Is number\n",
      "[4]\n",
      "Is number\n",
      "[4, 13]\n",
      "Is number\n",
      "[4, 13, 5]\n",
      "Doing operation\n",
      "[4, 2.6]\n",
      "Doing operation\n"
     ]
    },
    {
     "data": {
      "text/plain": [
       "6.6"
      ]
     },
     "execution_count": 37,
     "metadata": {},
     "output_type": "execute_result"
    }
   ],
   "source": [
    "\n",
    "example = [2, 1, \"+\", 3, \"*\"]\n",
    "example = [4, 13, 5, \"/\", \"+\"]\n",
    "rpn(example)"
   ]
  },
  {
   "cell_type": "code",
   "execution_count": null,
   "metadata": {},
   "outputs": [],
   "source": []
  }
 ],
 "metadata": {
  "kernelspec": {
   "display_name": "Python 3",
   "language": "python",
   "name": "python3"
  },
  "language_info": {
   "codemirror_mode": {
    "name": "ipython",
    "version": 3
   },
   "file_extension": ".py",
   "mimetype": "text/x-python",
   "name": "python",
   "nbconvert_exporter": "python",
   "pygments_lexer": "ipython3",
   "version": "3.7.3"
  },
  "pycharm": {
   "stem_cell": {
    "cell_type": "raw",
    "metadata": {
     "collapsed": false
    },
    "source": []
   }
  }
 },
 "nbformat": 4,
 "nbformat_minor": 1
}
