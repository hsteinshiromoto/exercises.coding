{
 "cells": [
  {
   "cell_type": "markdown",
   "source": [
    "# Reverse Polish Notation"
   ],
   "metadata": {
    "collapsed": false
   }
  },
  {
   "cell_type": "markdown",
   "source": [
    "**Problem**:  Evaluate the value of an arithmetic expression in Reverse \n",
    "Polish Notation. Valid operators are `+`, `-`, `*`, `/`. Each operand may\n",
    "be an integer or another expression.\n",
    "\n",
    "Some examples:\n",
    "* `[2, 1, +, 3, *] -> ((2 + 1) * 3) -> 9`\n",
    "* `[4, 13, 5, /, +] -> (4 + (13 / 5)) -> 6`"
   ],
   "metadata": {
    "collapsed": false,
    "pycharm": {
     "name": "#%% md\n"
    }
   }
  },
  {
   "cell_type": "code",
   "execution_count": null,
   "outputs": [],
   "source": [
    "inport numpy as np"
   ],
   "metadata": {
    "collapsed": false,
    "pycharm": {
     "name": "#%%\n"
    }
   }
  },
  {
   "cell_type": "code",
   "execution_count": null,
   "outputs": [],
   "source": [
    "def do_operation(input1, input2, operator):\n",
    "    operator_map = {\"/\": /,\n",
    "                    \"+\": +,\n",
    "                    \"-\": -,\n",
    "                    \"*\": *}\n",
    "    \n",
    "    return input1 operator_map(operator) input2\n",
    "\n",
    "def pre_process(input: list):\n",
    "    \n",
    "    numbers = []\n",
    "    for index, item in enumerate(input):\n",
    "        \n",
    "        if isinstance(input[index], np.number):\n",
    "            if not isinstance(input[index+1], np.number):\n",
    "                result = do_operation(input[index-1], input[index], input[index+1])\n",
    "                \n",
    "        else:\n",
    "            \n",
    "        \n"
   ],
   "metadata": {
    "collapsed": false,
    "pycharm": {
     "name": "#%%\n"
    }
   }
  }
 ],
 "metadata": {
  "kernelspec": {
   "display_name": "Python 3",
   "language": "python",
   "name": "python3"
  },
  "language_info": {
   "codemirror_mode": {
    "name": "ipython",
    "version": 2
   },
   "file_extension": ".py",
   "mimetype": "text/x-python",
   "name": "python",
   "nbconvert_exporter": "python",
   "pygments_lexer": "ipython2",
   "version": "2.7.6"
  },
  "pycharm": {
   "stem_cell": {
    "cell_type": "raw",
    "source": [],
    "metadata": {
     "collapsed": false
    }
   }
  }
 },
 "nbformat": 4,
 "nbformat_minor": 0
}