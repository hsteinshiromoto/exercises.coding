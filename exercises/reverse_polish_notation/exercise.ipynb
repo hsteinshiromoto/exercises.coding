{
 "cells": [
  {
   "cell_type": "markdown",
   "source": [
    "# Reverse Polish Notation"
   ],
   "metadata": {
    "collapsed": false
   }
  },
  {
   "cell_type": "markdown",
   "source": [
    "**Problem**:  Evaluate the value of an arithmetic expression in Reverse \n",
    "Polish Notation. Valid operators are `+`, `-`, `*`, `/`. Each operand may\n",
    "be an integer or another expression.\n",
    "\n",
    "Some examples:\n",
    "* `[2, 1, +, 3, *] -> ((2 + 1) * 3) -> 9`\n",
    "* `[4, 13, 5, /, +] -> (4 + (13 / 5)) -> 6`"
   ],
   "metadata": {
    "collapsed": false,
    "pycharm": {
     "name": "#%% md\n"
    }
   }
  },
  {
   "cell_type": "code",
   "execution_count": null,
   "outputs": [],
   "source": [
    "import numpy as np\n",
    "import copy"
   ],
   "metadata": {
    "collapsed": false,
    "pycharm": {
     "name": "#%%\n"
    }
   }
  },
  {
   "cell_type": "code",
   "execution_count": null,
   "outputs": [],
   "source": [
    "def do_operation(input1, input2, operator):\n",
    "    if operator == \"*\":\n",
    "        result = input1 * input2\n",
    "        \n",
    "    elif operator == \"/\":\n",
    "        result = input1 / input2\n",
    "        \n",
    "    elif operator == \"-\":\n",
    "        result = input1 - input2\n",
    "        \n",
    "    else:\n",
    "        result = input1 + input2        \n",
    "    \n",
    "    return result"
   ],
   "metadata": {
    "collapsed": false,
    "pycharm": {
     "name": "#%%\n"
    }
   }
  },
  {
   "cell_type": "code",
   "execution_count": null,
   "outputs": [],
   "source": [
    "def pre_process(input: list):\n",
    "    \n",
    "    new_input = []\n",
    "    while True:\n",
    "        input = new_input\n",
    "        \n",
    "        for index, item in enumerate(input):    \n",
    "            if (not isinstance(input[index], np.number)) & (index >= 2):\n",
    "                result = [do_operation(input[index-2], input[index-1], input[index])]\n",
    "                new_input = copy.deepcopy(input)\n",
    "                new_input.insert(index - 2, result)\n",
    "                new_input.remove(input[index])\n",
    "                new_input.remove(input[index - 1])\n",
    "                new_input.remove(input[index - 2])\n",
    "                break        \n",
    "                        \n",
    "        \n"
   ],
   "metadata": {
    "collapsed": false,
    "pycharm": {
     "name": "#%%\n"
    }
   }
  }
 ],
 "metadata": {
  "kernelspec": {
   "display_name": "Python 3",
   "language": "python",
   "name": "python3"
  },
  "language_info": {
   "codemirror_mode": {
    "name": "ipython",
    "version": 2
   },
   "file_extension": ".py",
   "mimetype": "text/x-python",
   "name": "python",
   "nbconvert_exporter": "python",
   "pygments_lexer": "ipython2",
   "version": "2.7.6"
  },
  "pycharm": {
   "stem_cell": {
    "cell_type": "raw",
    "source": [],
    "metadata": {
     "collapsed": false
    }
   }
  }
 },
 "nbformat": 4,
 "nbformat_minor": 0
}